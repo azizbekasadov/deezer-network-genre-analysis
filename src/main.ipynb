{
  "nbformat": 4,
  "nbformat_minor": 0,
  "metadata": {
    "colab": {
      "provenance": []
    },
    "kernelspec": {
      "name": "python3",
      "display_name": "Python 3"
    },
    "language_info": {
      "name": "python"
    }
  },
  "cells": [
    {
      "cell_type": "code",
      "execution_count": null,
      "metadata": {
        "id": "qNpOneyAu4cE"
      },
      "outputs": [],
      "source": [
        "import tarfile\n",
        "import os\n",
        "import pandas as pd\n",
        "import networkx as nx\n",
        "from networkx.algorithms import community\n",
        "from collections import Counter\n",
        "import matplotlib.pyplot as plt\n",
        "import requests\n",
        "import json"
      ]
    },
    {
      "cell_type": "code",
      "source": [
        "class DatasetLoader:\n",
        "  @staticmethod\n",
        "  def download_dataset(url, output_path):\n",
        "      response = requests.get(url, stream=True)\n",
        "      if response.status_code == 200:\n",
        "          with open(output_path, 'wb') as f:\n",
        "              for chunk in response.iter_content(chunk_size=1024):\n",
        "                  f.write(chunk)\n",
        "          print(f\"Dataset downloaded successfully to {output_path}\")\n",
        "      else:\n",
        "          raise Exception(f\"Failed to download dataset. Status code: {response.status_code}\")\n",
        "  @staticmethod\n",
        "  def extract_dataset(file_path, extract_dir):\n",
        "      with tarfile.open(file_path) as tar:\n",
        "          tar.extractall(path=extract_dir)\n",
        "      print(f\"Dataset extracted to {extract_dir}\")\n",
        "      return extract_dir\n",
        "\n",
        "  @staticmethod\n",
        "  def load_data(data_dir, locale:str): # for locale - HR -> for Croatia, HU for Hungary, RO for Romania\n",
        "      edges_file = os.path.join(data_dir, locale+'_edges.csv')  # Assuming dataset contains edges.csv\n",
        "      genres_file = os.path.join(data_dir, locale+'_genres.json')  # Assuming dataset contains genres.csv\n",
        "\n",
        "      edges = pd.read_csv(edges_file)\n",
        "      with open(genres_file, 'r') as f:\n",
        "        genres = json.load(f)\n",
        "      return edges, genres"
      ],
      "metadata": {
        "id": "YkTrmepBvEjD"
      },
      "execution_count": null,
      "outputs": []
    },
    {
      "cell_type": "code",
      "source": [
        "import google.colab.drive\n",
        "google.colab.drive.mount('/content/drive')"
      ],
      "metadata": {
        "colab": {
          "base_uri": "https://localhost:8080/"
        },
        "id": "iyauAFy4vXh5",
        "outputId": "5d593c6f-ee5b-47e2-84fa-6a8b6c0ea996"
      },
      "execution_count": null,
      "outputs": [
        {
          "output_type": "stream",
          "name": "stdout",
          "text": [
            "Mounted at /content/drive\n"
          ]
        }
      ]
    },
    {
      "cell_type": "code",
      "source": [
        "url = \"https://snap.stanford.edu/data/gemsec_deezer_dataset.tar.gz\"  # Dataset URL\n",
        "local_tar_path = \"/content/drive/MyDrive/deezer_dataset.tar.gz\"  # Replace with your preferred Colab path\n",
        "extract_dir = \"/content/drive/MyDrive/deezer_data/deezer_clean_data\"\n",
        "\n",
        "DatasetLoader.download_dataset(url, local_tar_path)\n",
        "data_dir = DatasetLoader.extract_dataset(local_tar_path, extract_dir)"
      ],
      "metadata": {
        "colab": {
          "base_uri": "https://localhost:8080/"
        },
        "id": "D6gSNeWtvdHB",
        "outputId": "8e00e39b-2310-4ec6-f17d-5f4f5f45d04d"
      },
      "execution_count": null,
      "outputs": [
        {
          "output_type": "stream",
          "name": "stdout",
          "text": [
            "Dataset downloaded successfully to /content/drive/MyDrive/deezer_dataset.tar.gz\n",
            "Dataset extracted to /content/drive/MyDrive/deezer_data/deezer_clean_data\n"
          ]
        }
      ]
    },
    {
      "cell_type": "code",
      "source": [
        "# Network building\n",
        "\n",
        "class NetworkBuilder:\n",
        "  def __init__(self, edges, genres):\n",
        "    self.edges = edges\n",
        "    self.genres = genres\n",
        "\n",
        "  # Build Network\n",
        "  def build_network(self):\n",
        "      # Create a Graph\n",
        "      # Check if expected columns exist\n",
        "      if 'user1' not in self.edges.columns or 'user2' not in self.edges.columns:\n",
        "          # Rename columns if necessary\n",
        "          self.edges.rename(columns={self.edges.columns[0]: 'user1', self.edges.columns[1]: 'user2'}, inplace=True)\n",
        "          print(f\"Renamed columns to: {self.edges.columns}\")  # Confirm renaming\n",
        "\n",
        "      G = nx.Graph()\n",
        "\n",
        "      for _, row in edges.iterrows():\n",
        "        G.add_edge(row['user1'], row['user2'])\n",
        "      nx.set_node_attributes(G, self.genres, 'genre')\n",
        "\n",
        "      return G\n",
        "\n",
        "\n",
        "  # Community Detection\n",
        "  def detect_communities(self, G):\n",
        "      return list(community.louvain_communities(G))\n"
      ],
      "metadata": {
        "id": "OzUSLli7vwPV"
      },
      "execution_count": null,
      "outputs": []
    },
    {
      "cell_type": "code",
      "source": [
        "# HR\n",
        "edges, genres = DatasetLoader.load_data(data_dir,'HR')\n",
        "\n",
        "builder = NetworkBuilder(edges, genres)\n",
        "graph = builder.build_network()"
      ],
      "metadata": {
        "colab": {
          "base_uri": "https://localhost:8080/"
        },
        "id": "lpt1ivPpwBPQ",
        "outputId": "a6839711-3e16-4a31-b319-f2bbc231ab1b"
      },
      "execution_count": null,
      "outputs": [
        {
          "output_type": "stream",
          "name": "stdout",
          "text": [
            "Renamed columns to: Index(['user1', 'user2'], dtype='object')\n"
          ]
        }
      ]
    }
  ]
}
